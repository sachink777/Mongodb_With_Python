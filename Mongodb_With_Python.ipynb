{
 "cells": [
  {
   "cell_type": "code",
   "execution_count": 1,
   "metadata": {},
   "outputs": [],
   "source": [
    "import pymongo"
   ]
  },
  {
   "cell_type": "markdown",
   "metadata": {},
   "source": [
    "here, connection for mongodb has implemented "
   ]
  },
  {
   "cell_type": "code",
   "execution_count": 2,
   "metadata": {},
   "outputs": [],
   "source": [
    "url = 'mongodb://localhost:27017/'\n",
    "client = pymongo.MongoClient(url)"
   ]
  },
  {
   "cell_type": "markdown",
   "metadata": {},
   "source": [
    ".list_database_names() helps to show list all the database"
   ]
  },
  {
   "cell_type": "code",
   "execution_count": 3,
   "metadata": {},
   "outputs": [
    {
     "data": {
      "text/plain": [
       "['admin', 'config', 'cricket', 'database1', 'local', 'sk']"
      ]
     },
     "execution_count": 3,
     "metadata": {},
     "output_type": "execute_result"
    }
   ],
   "source": [
    "client.list_database_names()"
   ]
  },
  {
   "cell_type": "markdown",
   "metadata": {},
   "source": [
    "We have created database 'ESSPORT' and collection for the database is 'Teams'"
   ]
  },
  {
   "cell_type": "code",
   "execution_count": 5,
   "metadata": {},
   "outputs": [],
   "source": [
    "database = client['ESSPORT']\n",
    "collection1= database['Teams']"
   ]
  },
  {
   "cell_type": "markdown",
   "metadata": {},
   "source": [
    "# Insert()"
   ]
  },
  {
   "cell_type": "markdown",
   "metadata": {},
   "source": [
    "We can insert records in database using:\n",
    "    \n",
    "collection.insert_one()\n",
    "\n",
    "collection.insert_many()"
   ]
  },
  {
   "cell_type": "code",
   "execution_count": 20,
   "metadata": {},
   "outputs": [
    {
     "data": {
      "text/plain": [
       "<pymongo.results.InsertOneResult at 0x1bac267cd40>"
      ]
     },
     "execution_count": 20,
     "metadata": {},
     "output_type": "execute_result"
    }
   ],
   "source": [
    "teams= {'name':'godlike essports',\n",
    "        'year':2020,\n",
    "        'tournaments':5,\n",
    "        '#1':4,\n",
    "        'networth':5000000}\n",
    "collection1.insert_one(teams)"
   ]
  },
  {
   "cell_type": "code",
   "execution_count": 7,
   "metadata": {},
   "outputs": [
    {
     "data": {
      "text/plain": [
       "<pymongo.results.InsertManyResult at 0x1bac1f18c00>"
      ]
     },
     "execution_count": 7,
     "metadata": {},
     "output_type": "execute_result"
    }
   ],
   "source": [
    "teams_many = [ {'name':'TX essports',\n",
    "        'year':2021,\n",
    "        'tournaments':5,\n",
    "        '#1':1,\n",
    "        'networth':3000000},\n",
    "             {'name':'SG essports',\n",
    "        'year':2020,\n",
    "        'tournaments':5,\n",
    "        '#1':2,\n",
    "        'networth':4500000},\n",
    "             {'name':'8 bit essports',\n",
    "        'year':2020,\n",
    "        'tournaments':5,\n",
    "        '#1':0,\n",
    "        'networth':2500000},\n",
    "             {'name':'SOUL essports',\n",
    "        'year':2022,\n",
    "        'tournaments':2,\n",
    "        '#1':0,\n",
    "        'networth':1000000},\n",
    "             {'name':'XO essports',\n",
    "        'year':2020,\n",
    "        'tournaments':5,\n",
    "        '#1':1,\n",
    "        'networth':3000000},\n",
    "             {'name':'TSM essports',\n",
    "        'year':2020,\n",
    "        'tournaments':5,\n",
    "        '#1':0,\n",
    "        'networth':5000000}]\n",
    "collection1.insert_many(teams_many)"
   ]
  },
  {
   "cell_type": "markdown",
   "metadata": {},
   "source": [
    "# Search and fetch "
   ]
  },
  {
   "cell_type": "markdown",
   "metadata": {},
   "source": [
    "user can fetch the data from database.collection on console with the help of for loop \n",
    "also can find any specific documents from collection using .find() methode."
   ]
  },
  {
   "cell_type": "code",
   "execution_count": 8,
   "metadata": {},
   "outputs": [
    {
     "name": "stdout",
     "output_type": "stream",
     "text": [
      "{'_id': ObjectId('620b6b2e4dd043792f242e0d'), 'name': 'godlike essports', 'year': 2020, 'tournaments': 5, '#1': 4, 'networth': 5000000}\n",
      "{'_id': ObjectId('620b6c1b4dd043792f242e0e'), 'name': 'TX essports', 'year': 2021, 'tournaments': 5, '#1': 1, 'networth': 3000000}\n",
      "{'_id': ObjectId('620b6c1b4dd043792f242e0f'), 'name': 'SG essports', 'year': 2020, 'tournaments': 5, '#1': 2, 'networth': 4500000}\n",
      "{'_id': ObjectId('620b6c1b4dd043792f242e10'), 'name': '8 bit essports', 'year': 2020, 'tournaments': 5, '#1': 0, 'networth': 2500000}\n",
      "{'_id': ObjectId('620b6c1b4dd043792f242e11'), 'name': 'SOUL essports', 'year': 2022, 'tournaments': 2, '#1': 0, 'networth': 1000000}\n",
      "{'_id': ObjectId('620b6c1b4dd043792f242e12'), 'name': 'XO essports', 'year': 2020, 'tournaments': 5, '#1': 1, 'networth': 3000000}\n",
      "{'_id': ObjectId('620b6c1b4dd043792f242e13'), 'name': 'TSM essports', 'year': 2020, 'tournaments': 5, '#1': 0, 'networth': 5000000}\n"
     ]
    }
   ],
   "source": [
    "for i in collection1.find():\n",
    "    print(i)"
   ]
  },
  {
   "cell_type": "markdown",
   "metadata": {},
   "source": [
    "Here, we are fetching the documents whos networth = 5000000"
   ]
  },
  {
   "cell_type": "code",
   "execution_count": 15,
   "metadata": {},
   "outputs": [
    {
     "name": "stdout",
     "output_type": "stream",
     "text": [
      "{'_id': ObjectId('620b6b2e4dd043792f242e0d'), 'name': 'godlike essports', 'year': 2020, 'tournaments': 5, '#1': 4, 'networth': 5000000}\n"
     ]
    }
   ],
   "source": [
    "for i in collection1.find({'networth':5000000}).limit(1):\n",
    "    print(i)"
   ]
  },
  {
   "cell_type": "code",
   "execution_count": 14,
   "metadata": {},
   "outputs": [
    {
     "name": "stdout",
     "output_type": "stream",
     "text": [
      "{'_id': ObjectId('620b6c1b4dd043792f242e11'), 'name': 'SOUL essports', 'year': 2022, 'tournaments': 2, '#1': 0, 'networth': 1000000}\n"
     ]
    }
   ],
   "source": [
    "for i in collection1.find({'year': {'$not' : {'$lte' : 2021}}}):\n",
    "    print(i)"
   ]
  },
  {
   "cell_type": "code",
   "execution_count": 28,
   "metadata": {},
   "outputs": [
    {
     "name": "stdout",
     "output_type": "stream",
     "text": [
      "{'_id': ObjectId('620b6b2e4dd043792f242e0d'), 'name': 'godlike essports', 'year': 2020, 'tournaments': 5, '#1': 4, 'networth': 5000000}\n"
     ]
    }
   ],
   "source": [
    "for i in collection1.find({'#1':{'$gt':3}}):\n",
    "    print(i)"
   ]
  },
  {
   "cell_type": "markdown",
   "metadata": {},
   "source": [
    "# Delete()"
   ]
  },
  {
   "cell_type": "markdown",
   "metadata": {},
   "source": [
    "collection.delete_one()\n",
    "\n",
    "collection.delete_many()"
   ]
  },
  {
   "cell_type": "markdown",
   "metadata": {},
   "source": [
    "we have removed the documents from collection who didn't win any tournament."
   ]
  },
  {
   "cell_type": "code",
   "execution_count": 25,
   "metadata": {},
   "outputs": [
    {
     "data": {
      "text/plain": [
       "<pymongo.results.DeleteResult at 0x1bac27a54c0>"
      ]
     },
     "execution_count": 25,
     "metadata": {},
     "output_type": "execute_result"
    }
   ],
   "source": [
    "collection1.delete_many({'#1':0})"
   ]
  },
  {
   "cell_type": "markdown",
   "metadata": {},
   "source": [
    "# Update()"
   ]
  },
  {
   "cell_type": "markdown",
   "metadata": {},
   "source": [
    "collection.update_one()\n",
    "\n",
    "collection.update_many()"
   ]
  },
  {
   "cell_type": "markdown",
   "metadata": {},
   "source": [
    "Here, we have updated the networth of the document whos previous networth was 3000000"
   ]
  },
  {
   "cell_type": "code",
   "execution_count": 31,
   "metadata": {},
   "outputs": [
    {
     "data": {
      "text/plain": [
       "<pymongo.results.UpdateResult at 0x1bac26ee700>"
      ]
     },
     "execution_count": 31,
     "metadata": {},
     "output_type": "execute_result"
    }
   ],
   "source": [
    "collection1.update_many({'networth':3000000},{'$set':{'networth':5000000}})"
   ]
  },
  {
   "cell_type": "code",
   "execution_count": 32,
   "metadata": {},
   "outputs": [
    {
     "name": "stdout",
     "output_type": "stream",
     "text": [
      "{'_id': ObjectId('620b6b2e4dd043792f242e0d'), 'name': 'godlike essports', 'year': 2020, 'tournaments': 5, '#1': 4, 'networth': 5000000}\n",
      "{'_id': ObjectId('620b6c1b4dd043792f242e12'), 'name': 'XO essports', 'year': 2020, 'tournaments': 5, '#1': 1, 'networth': 5000000}\n",
      "{'_id': ObjectId('620b6edb4dd043792f242e14'), 'name': 'TX essports', 'year': 2021, 'tournaments': 5, '#1': 1, 'networth': 5000000}\n"
     ]
    }
   ],
   "source": [
    "for i in collection1.find({'networth':5000000}):\n",
    "    print(i)"
   ]
  },
  {
   "cell_type": "markdown",
   "metadata": {},
   "source": [
    "previously we had only 2 teams with 5000000 networth but now we have 3 teams as we have updated networth of one team"
   ]
  },
  {
   "cell_type": "code",
   "execution_count": null,
   "metadata": {},
   "outputs": [],
   "source": []
  }
 ],
 "metadata": {
  "kernelspec": {
   "display_name": "Python 3",
   "language": "python",
   "name": "python3"
  },
  "language_info": {
   "codemirror_mode": {
    "name": "ipython",
    "version": 3
   },
   "file_extension": ".py",
   "mimetype": "text/x-python",
   "name": "python",
   "nbconvert_exporter": "python",
   "pygments_lexer": "ipython3",
   "version": "3.8.3"
  }
 },
 "nbformat": 4,
 "nbformat_minor": 4
}
